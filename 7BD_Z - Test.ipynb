{
 "cells": [
  {
   "cell_type": "markdown",
   "id": "b777cc4a",
   "metadata": {},
   "source": [
    "To perform Hypothesis testing to perform Z test"
   ]
  },
  {
   "cell_type": "code",
   "execution_count": 1,
   "id": "be2e6ecd",
   "metadata": {},
   "outputs": [],
   "source": [
    "#Roll No. 23\n",
    "#Name- Komal Gulhane\n",
    "#Date- 29-02-24\n",
    "#Subject-Big Data Analytics"
   ]
  },
  {
   "cell_type": "code",
   "execution_count": 2,
   "id": "c70deafb",
   "metadata": {},
   "outputs": [],
   "source": [
    "# Python program to implement One Sample Z-Test\n",
    "# Importing the required libraries\n",
    "import pandas as pd\n",
    "from scipy import stats\n",
    "import numpy as np"
   ]
  },
  {
   "cell_type": "code",
   "execution_count": 3,
   "id": "c85ddc57",
   "metadata": {},
   "outputs": [],
   "source": [
    "a = np.random.randint(1,100,50)"
   ]
  },
  {
   "cell_type": "code",
   "execution_count": 4,
   "id": "86fe1bc5",
   "metadata": {},
   "outputs": [
    {
     "name": "stdout",
     "output_type": "stream",
     "text": [
      "[ 1 36 84 63 40 20 93 66 90 50  1  1 43 59 87 93 82 82 23  8 29 23 73 37\n",
      " 11 24  1 28 75 30 82 57  4 11  2 38  5 84 99 71 68 51 32 63 79 91 84 96\n",
      " 86 62]\n"
     ]
    }
   ],
   "source": [
    "print(a)"
   ]
  },
  {
   "cell_type": "code",
   "execution_count": 5,
   "id": "0702d0f1",
   "metadata": {},
   "outputs": [
    {
     "data": {
      "text/plain": [
       "50"
      ]
     },
     "execution_count": 5,
     "metadata": {},
     "output_type": "execute_result"
    }
   ],
   "source": [
    "len(a)"
   ]
  },
  {
   "cell_type": "code",
   "execution_count": 6,
   "id": "92eeccd8",
   "metadata": {},
   "outputs": [],
   "source": [
    "import os\n",
    "import pandas as pd"
   ]
  },
  {
   "cell_type": "code",
   "execution_count": 7,
   "id": "d7a8a3bc",
   "metadata": {},
   "outputs": [],
   "source": [
    "from scipy import stats\n",
    "from statsmodels.stats import weightstats as stests"
   ]
  },
  {
   "cell_type": "code",
   "execution_count": 8,
   "id": "f53614ab",
   "metadata": {},
   "outputs": [],
   "source": [
    "a = [89,34,56,14,98,56,34,65,12,43,53,62,64,21,45,67,32,62,15,75,90,44,10,6,34,66,23,65,68,89,34,56,14,98,56,34,65,12,43,\n",
    "     53,62,64,21,45,67,32,62,15,75,90,44,10,6,34,66,23,65,68,89,34,56,14,98,56,34,65,12,43,53,62,64,21,45,67,32,62,15,75,\n",
    "     90,44,10,6,34,66,23,65,68]"
   ]
  },
  {
   "cell_type": "code",
   "execution_count": 9,
   "id": "2e9d2e89",
   "metadata": {},
   "outputs": [
    {
     "name": "stdout",
     "output_type": "stream",
     "text": [
      "1.0583387107614594e-81\n"
     ]
    }
   ],
   "source": [
    "z_test , p_val = stests.ztest(a , x2=None,value = 100)\n",
    "print(p_val)"
   ]
  },
  {
   "cell_type": "code",
   "execution_count": 10,
   "id": "00666028",
   "metadata": {},
   "outputs": [
    {
     "name": "stdout",
     "output_type": "stream",
     "text": [
      "We can reject null hypothesis\n"
     ]
    }
   ],
   "source": [
    "if p_val < 0.05:\n",
    "    print(\"We can reject null hypothesis\")\n",
    "else:\n",
    "    print(\"We can accept null hypothesis\")"
   ]
  },
  {
   "cell_type": "code",
   "execution_count": null,
   "id": "6d767565",
   "metadata": {},
   "outputs": [],
   "source": []
  }
 ],
 "metadata": {
  "kernelspec": {
   "display_name": "Python 3 (ipykernel)",
   "language": "python",
   "name": "python3"
  },
  "language_info": {
   "codemirror_mode": {
    "name": "ipython",
    "version": 3
   },
   "file_extension": ".py",
   "mimetype": "text/x-python",
   "name": "python",
   "nbconvert_exporter": "python",
   "pygments_lexer": "ipython3",
   "version": "3.9.7"
  }
 },
 "nbformat": 4,
 "nbformat_minor": 5
}
