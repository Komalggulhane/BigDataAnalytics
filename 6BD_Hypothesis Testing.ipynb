{
 "cells": [
  {
   "cell_type": "markdown",
   "id": "f3aea784",
   "metadata": {},
   "source": [
    "To perform the hypothesis testing to perform T test"
   ]
  },
  {
   "cell_type": "code",
   "execution_count": null,
   "id": "9bb15605",
   "metadata": {},
   "outputs": [],
   "source": [
    "#Roll No. 23\n",
    "#Name- Komal Gulhane\n",
    "#Date- 29-02-24\n",
    "#Subject-Big Data Analytics "
   ]
  },
  {
   "cell_type": "code",
   "execution_count": 1,
   "id": "14372636",
   "metadata": {},
   "outputs": [],
   "source": [
    "#T Test A t-test is a type of inferential statistic which is used to determine if there is a significant difference between the means of two groups which may be related in certain"
   ]
  },
  {
   "cell_type": "code",
   "execution_count": 2,
   "id": "07ca4e1a",
   "metadata": {},
   "outputs": [],
   "source": [
    "ages=(33,45,76,27,98,12,46,37,97,53,78,45,67,91,67,23,21,47,21,22,16,10,9,3,7,3,23,32,19,25,67)"
   ]
  },
  {
   "cell_type": "code",
   "execution_count": 3,
   "id": "607475a0",
   "metadata": {},
   "outputs": [
    {
     "data": {
      "text/plain": [
       "31"
      ]
     },
     "execution_count": 3,
     "metadata": {},
     "output_type": "execute_result"
    }
   ],
   "source": [
    "len(ages)"
   ]
  },
  {
   "cell_type": "code",
   "execution_count": 6,
   "id": "912559f6",
   "metadata": {},
   "outputs": [
    {
     "name": "stdout",
     "output_type": "stream",
     "text": [
      "26.666666666666668\n"
     ]
    }
   ],
   "source": [
    "import numpy as np\n",
    "ages_mean=np.mean(ages)\n",
    "print(ages_mean)\n"
   ]
  },
  {
   "cell_type": "code",
   "execution_count": 7,
   "id": "1c19a11f",
   "metadata": {},
   "outputs": [],
   "source": [
    "# Lets take Sample\n",
    "\n",
    "sample_size=10\n",
    "age_sample=np.random.choice(ages,sample_size)"
   ]
  },
  {
   "cell_type": "code",
   "execution_count": 8,
   "id": "0e1a8604",
   "metadata": {},
   "outputs": [
    {
     "data": {
      "text/plain": [
       "array([40, 25, 25, 40, 35, 30, 10, 25, 40, 35])"
      ]
     },
     "execution_count": 8,
     "metadata": {},
     "output_type": "execute_result"
    }
   ],
   "source": [
    "age_sample"
   ]
  },
  {
   "cell_type": "code",
   "execution_count": 23,
   "id": "b17f7f79",
   "metadata": {},
   "outputs": [],
   "source": [
    "from scipy.stats import ttest_1samp"
   ]
  },
  {
   "cell_type": "code",
   "execution_count": 10,
   "id": "ee187d9f",
   "metadata": {},
   "outputs": [],
   "source": [
    "ttest,p_value=ttest_1samp(age_sample,30)"
   ]
  },
  {
   "cell_type": "code",
   "execution_count": 11,
   "id": "c35dfdb4",
   "metadata": {},
   "outputs": [
    {
     "name": "stdout",
     "output_type": "stream",
     "text": [
      "0.8722883630840339\n"
     ]
    }
   ],
   "source": [
    "print(p_value)"
   ]
  },
  {
   "cell_type": "code",
   "execution_count": 13,
   "id": "90abe202",
   "metadata": {},
   "outputs": [
    {
     "name": "stdout",
     "output_type": "stream",
     "text": [
      "We are accepting null hypothesis\n"
     ]
    }
   ],
   "source": [
    "if p_value < 0.05:\n",
    "    print(\"We are rejecting null hypothesis\")\n",
    "else:\n",
    "    print(\"We are accepting null hypothesis\")"
   ]
  },
  {
   "cell_type": "code",
   "execution_count": 4,
   "id": "c765e2df",
   "metadata": {},
   "outputs": [
    {
     "name": "stdout",
     "output_type": "stream",
     "text": [
      "[77, 37, 97, 43, 76, 86, 82, 94, 99, 9, 80, 11, 20, 47, 97, 37, 6, 53, 48, 74, 38, 13, 14, 25, 9, 58, 21, 85, 95, 33, 22, 9, 93, 91, 81, 47, 94, 62, 8, 84, 86, 67, 72, 21, 30, 62, 47, 80, 46, 64]\n"
     ]
    }
   ],
   "source": [
    "#Generate Random numbers\n",
    "import random \n",
    "array_length = 50\n",
    "lower_bound = 1\n",
    "upper_bound = 100\n",
    "random_array = []\n",
    "for _ in range(array_length):\n",
    "    random_integer = random.randint(lower_bound, upper_bound)\n",
    "    random_array.append(random_integer)\n",
    "\n",
    "\n",
    "print(random_array)"
   ]
  },
  {
   "cell_type": "code",
   "execution_count": 5,
   "id": "3b1dfeee",
   "metadata": {},
   "outputs": [
    {
     "data": {
      "text/plain": [
       "50"
      ]
     },
     "execution_count": 5,
     "metadata": {},
     "output_type": "execute_result"
    }
   ],
   "source": [
    "len(random_array)"
   ]
  },
  {
   "cell_type": "code",
   "execution_count": null,
   "id": "66b4a309",
   "metadata": {},
   "outputs": [],
   "source": [
    " "
   ]
  }
 ],
 "metadata": {
  "kernelspec": {
   "display_name": "Python 3 (ipykernel)",
   "language": "python",
   "name": "python3"
  },
  "language_info": {
   "codemirror_mode": {
    "name": "ipython",
    "version": 3
   },
   "file_extension": ".py",
   "mimetype": "text/x-python",
   "name": "python",
   "nbconvert_exporter": "python",
   "pygments_lexer": "ipython3",
   "version": "3.9.7"
  }
 },
 "nbformat": 4,
 "nbformat_minor": 5
}
