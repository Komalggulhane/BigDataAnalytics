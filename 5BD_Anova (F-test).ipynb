{
 "cells": [
  {
   "cell_type": "markdown",
   "id": "4d10e254",
   "metadata": {},
   "source": [
    "To perform the hypothesis testing using ANOVA i.e one way F test"
   ]
  },
  {
   "cell_type": "code",
   "execution_count": null,
   "id": "6c5a87d7",
   "metadata": {},
   "outputs": [],
   "source": [
    "#Roll No. 23\n",
    "#Name- Komal Gulhane\n",
    "#Date- 29-02-24\n",
    "#Subject-Big Data Analytics "
   ]
  },
  {
   "cell_type": "code",
   "execution_count": 1,
   "id": "2322fe51",
   "metadata": {},
   "outputs": [],
   "source": [
    "#Python program to implement One-Way f-test\n",
    "# Importing the required libraries\n",
    "import scipy.stats"
   ]
  },
  {
   "cell_type": "code",
   "execution_count": 2,
   "id": "964f0df1",
   "metadata": {},
   "outputs": [],
   "source": [
    "# Creating sample data\n",
    "data1 = [0.0842, 0.0368, 0.0847, 0.0935, 0.0376, 0.0963, 0.0684,\n",
    "0.0758, 0.0854, 0.0855]\n",
    "data2 = [0.0785, 0.0845, 0.0758, 0.0853, 0.0946, 0.0785, 0.0853,\n",
    "0.0685]\n",
    "data3 = [0.0864, 0.2522, 0.0894, 0.2724, 0.0853, 0.1367, 0.853]"
   ]
  },
  {
   "cell_type": "code",
   "execution_count": 3,
   "id": "cc989d49",
   "metadata": {},
   "outputs": [],
   "source": [
    "# Performing the F-Test\n",
    "f_test, p_val = scipy.stats.f_oneway(data1, data2, data3)"
   ]
  },
  {
   "cell_type": "code",
   "execution_count": 4,
   "id": "72865b1c",
   "metadata": {},
   "outputs": [
    {
     "name": "stdout",
     "output_type": "stream",
     "text": [
      "p-value is:  0.04043792126789144\n"
     ]
    }
   ],
   "source": [
    "print(\"p-value is: \", p_val)"
   ]
  },
  {
   "cell_type": "code",
   "execution_count": 5,
   "id": "dc92e4fd",
   "metadata": {},
   "outputs": [
    {
     "name": "stdout",
     "output_type": "stream",
     "text": [
      " We can reject the null hypothesis\n"
     ]
    }
   ],
   "source": [
    "# taking the threshold value as 0.05 or 5%\n",
    "if p_val < 0.05:\n",
    "    print(\" We can reject the null hypothesis\")\n",
    "else:\n",
    "    print(\"We can accept the null hypothesis\")"
   ]
  },
  {
   "cell_type": "code",
   "execution_count": null,
   "id": "049d6f62",
   "metadata": {},
   "outputs": [],
   "source": []
  }
 ],
 "metadata": {
  "kernelspec": {
   "display_name": "Python 3 (ipykernel)",
   "language": "python",
   "name": "python3"
  },
  "language_info": {
   "codemirror_mode": {
    "name": "ipython",
    "version": 3
   },
   "file_extension": ".py",
   "mimetype": "text/x-python",
   "name": "python",
   "nbconvert_exporter": "python",
   "pygments_lexer": "ipython3",
   "version": "3.9.7"
  }
 },
 "nbformat": 4,
 "nbformat_minor": 5
}
